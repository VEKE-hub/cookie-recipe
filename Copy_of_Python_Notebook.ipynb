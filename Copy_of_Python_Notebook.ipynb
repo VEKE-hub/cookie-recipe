{
  "nbformat": 4,
  "nbformat_minor": 0,
  "metadata": {
    "colab": {
      "name": "Copy of Python Notebook",
      "provenance": [],
      "authorship_tag": "ABX9TyN8X/dDC6RHryV8Dkde21u4",
      "include_colab_link": true
    },
    "kernelspec": {
      "name": "python3",
      "display_name": "Python 3"
    },
    "language_info": {
      "name": "python"
    }
  },
  "cells": [
    {
      "cell_type": "markdown",
      "metadata": {
        "id": "view-in-github",
        "colab_type": "text"
      },
      "source": [
        "<a href=\"https://colab.research.google.com/github/VEKE-hub/cookie-recipe/blob/master/Copy_of_Python_Notebook.ipynb\" target=\"_parent\"><img src=\"https://colab.research.google.com/assets/colab-badge.svg\" alt=\"Open In Colab\"/></a>"
      ]
    },
    {
      "cell_type": "markdown",
      "metadata": {
        "id": "qJ4kYVO4zTph"
      },
      "source": [
        "This criterion is linked to a learning outcomePython Programming & Data Cleaning"
      ]
    },
    {
      "cell_type": "markdown",
      "metadata": {
        "id": "Ql9FXGmozWze"
      },
      "source": [
        " Importing the Libraries to be used"
      ]
    },
    {
      "cell_type": "code",
      "metadata": {
        "id": "NH93LPXDz11t"
      },
      "source": [
        "#Let's import the pandas library\n",
        "#\n",
        "# OUR CODE GOES HERE\n",
        "import pandas as pd\n",
        "# as well as the Numpy library\n",
        "import numpy as np"
      ],
      "execution_count": null,
      "outputs": []
    },
    {
      "cell_type": "markdown",
      "metadata": {
        "id": "mFEHs7wez9w9"
      },
      "source": [
        " Data Cleaning"
      ]
    },
    {
      "cell_type": "code",
      "metadata": {
        "id": "ZmV-mZNzZPTo"
      },
      "source": [
        "# Assign a new column to a Pandas DataFrame\n",
        "# \n",
        "\n",
        "# Create empty dataframe\n",
        "df = pd.DataFrame() \n",
        "df['name'] = ['value', 'datetime', 'cell_on_site'] \n",
        "df"
      ],
      "execution_count": null,
      "outputs": []
    },
    {
      "cell_type": "markdown",
      "metadata": {
        "id": "bhjfARdVZ18i"
      },
      "source": [
        "Which ones were the most used city for the three days?"
      ]
    },
    {
      "cell_type": "code",
      "metadata": {
        "id": "vJi2RjosZ92-"
      },
      "source": [
        "max('dataset1, dataset2, dataset3',cities)"
      ],
      "execution_count": null,
      "outputs": []
    },
    {
      "cell_type": "markdown",
      "metadata": {
        "id": "pme3rBQjbZtV"
      },
      "source": [
        "Which cities were the most used during business and home hours?"
      ]
    },
    {
      "cell_type": "code",
      "metadata": {
        "id": "9g0ThCPEbgYX"
      },
      "source": [
        "max('datetime',cities)"
      ],
      "execution_count": null,
      "outputs": []
    },
    {
      "cell_type": "markdown",
      "metadata": {
        "id": "9-gJFIvqbyUN"
      },
      "source": [
        "Most used city for the three days?"
      ]
    },
    {
      "cell_type": "code",
      "metadata": {
        "id": "OjlaM9E1b8Ta"
      },
      "source": [
        "max('dataset1, dataset2, dataset3',cities)"
      ],
      "execution_count": null,
      "outputs": []
    },
    {
      "cell_type": "markdown",
      "metadata": {
        "id": "gYzDOkmgd0_b"
      },
      "source": [
        "missing data"
      ]
    },
    {
      "cell_type": "code",
      "metadata": {
        "id": "hHdoJiRfd4Wu"
      },
      "source": [
        "# load the dataset and review rows\n",
        "from pandas import read_csv\n",
        "# load the dataset\n",
        "dataset = read_csv('dataset1, dataset2, dataset2.', header=None)\n",
        "# print the first 20 rows of data\n",
        "print(dataset.head(20))"
      ],
      "execution_count": null,
      "outputs": []
    },
    {
      "cell_type": "markdown",
      "metadata": {
        "id": "Qs3i7n47cbMF"
      },
      "source": [
        "annalysis"
      ]
    },
    {
      "cell_type": "code",
      "metadata": {
        "id": "NMS-5rGZceqd"
      },
      "source": [
        "# Random Sampling Dataframe\n",
        "# \n",
        "\n",
        "raw_data = {'product': ['voice', 'sms', 'data',,], \n",
        "        'value': ['0', '25', '16',], \n",
        "        'datetime': [], \n",
        "        \n",
        "df = pd.DataFrame(raw_data, columns = ['product', 'value', 'datetime'])\n",
        "df\n"
      ],
      "execution_count": null,
      "outputs": []
    }
  ]
}